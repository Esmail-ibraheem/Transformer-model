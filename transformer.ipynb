{
 "cells": [
  {
   "cell_type": "code",
   "execution_count": 2,
   "metadata": {},
   "outputs": [
    {
     "name": "stdout",
     "output_type": "stream",
     "text": [
      "importing Jupyter notebook from Decoder.ipynb\n"
     ]
    }
   ],
   "source": [
    "import import_ipynb\n",
    "from Encoder import Encoder, EncoderBlock, InputEmbeddingsLayer, PositionalEncodingLayer, MultiHeadAttentionBlock, FeedForwardBlock\n",
    "from Decoder import Decoder, DecoderBlock, InputEmbeddingsLayer, PositionalEncodingLayer, MultiHeadAttentionBlock, FeedForwardBlock\n",
    "import torch \n",
    "import torch.nn as nn "
   ]
  },
  {
   "cell_type": "code",
   "execution_count": 3,
   "metadata": {},
   "outputs": [],
   "source": [
    "class LinearLayer(nn.Module):\n",
    "    def __init__(self, d_model: int, vocab_size: int) -> None:\n",
    "        super().__init__()\n",
    "        self.Linear = nn.Linear(d_model, vocab_size)\n",
    "    def forward(self, x):\n",
    "        return self.Linear(x)"
   ]
  },
  {
   "cell_type": "code",
   "execution_count": 4,
   "metadata": {},
   "outputs": [],
   "source": [
    "from dataclasses import dataclass\n",
    "@dataclass\n",
    "class Model_Arguments:\n",
    "    source_vocab_size: int\n",
    "    target_vocab_size: int \n",
    "    source_sequence_length: int \n",
    "    target_sequence_length: int \n",
    "    d_model: int = 512 \n",
    "    Layers: int = 6\n",
    "    heads: int = 8 \n",
    "    dropout: float = 0.1 \n",
    "    d_ff: int = 2048 "
   ]
  },
  {
   "cell_type": "code",
   "execution_count": 5,
   "metadata": {},
   "outputs": [],
   "source": [
    "# Building the transformer block \n",
    "class TransformerBlock(nn.Module):\n",
    "    def __init__(self, encoder: Encoder, decoder: Decoder, source_embedding: InputEmbeddingsLayer, target_embedding: InputEmbeddingsLayer, source_position: PositionalEncodingLayer, target_position: PositionalEncodingLayer, Linear: LinearLayer) -> None:\n",
    "        super().__init__()\n",
    "        self.encoder = encoder \n",
    "        self.decoder = decoder \n",
    "        self.source_embedding = source_embedding\n",
    "        self.target_embedding = target_embedding\n",
    "        self.source_position = source_position\n",
    "        self.targ_position = target_position\n",
    "        self.Linear = Linear \n",
    "    def encode(self, source_language, source_mask):\n",
    "        source_language = self.source_embedding(source_language)\n",
    "        source_language = self.source_position(source_language)\n",
    "        return self.encoder(source_language, source_mask)\n",
    "    def decode(self, Encoder_output, source_mask, target_language, target_mask):\n",
    "        target_language = self.target_embedding(target_language)\n",
    "        target_language = self.targ_position(target_language)\n",
    "        return self.decoder(target_language, Encoder_output, source_mask, target_mask)\n",
    "    def linear(self, x):\n",
    "        return self.Linear(x)\n",
    "\n",
    "# Transformer model skeletone \n",
    "def Transformer_model(Args: Model_Arguments)->TransformerBlock:\n",
    "\n",
    "    source_embedding = InputEmbeddingsLayer(Args.d_model, Args.source_vocab_size)\n",
    "    source_position = PositionalEncodingLayer(Args.d_model, Args.source_sequence_length, Args.dropout)\n",
    "\n",
    "    target_embedding = InputEmbeddingsLayer(Args.d_model, Args.target_vocab_size)\n",
    "    target_position = PositionalEncodingLayer(Args.d_model, Args.target_sequence_length, Args.dropout)\n",
    "\n",
    "    Encoder_Blocks = []\n",
    "    for _ in range(Args.Layers):\n",
    "        encoder_self_attention_block = MultiHeadAttentionBlock(Args.d_model, Args.heads, Args.dropout)\n",
    "        encoder_feed_forward_block = FeedForwardBlock(Args.d_model, Args.d_ff, Args.dropout)\n",
    "        encoder_block = EncoderBlock(encoder_self_attention_block, encoder_feed_forward_block, Args.dropout)\n",
    "        Encoder_Blocks.append(encoder_block)\n",
    "    \n",
    "    Decoder_Blocks = []\n",
    "    for _ in range(Args.Layers):\n",
    "        decoder_self_attention_block = MultiHeadAttentionBlock(Args.d_model, Args.heads, Args.dropout)\n",
    "        decoder_cross_attention_block = MultiHeadAttentionBlock(Args.d_model, Args.heads, Args.dropout)\n",
    "        decoder_feed_forward_block = FeedForwardBlock(Args.d_model, Args.d_ff, Args.dropout)\n",
    "        decoder_block = DecoderBlock(decoder_self_attention_block, decoder_cross_attention_block, decoder_feed_forward_block, Args.dropout)\n",
    "        Decoder_Blocks.append(decoder_block)\n",
    "    \n",
    "    encoder = Encoder(nn.ModuleList(Encoder_Blocks))\n",
    "    decoder = Decoder(nn.ModuleList(Decoder_Blocks))\n",
    "\n",
    "    linear = LinearLayer(Args.d_model, Args.target_vocab_size)\n",
    "\n",
    "    Transformer = TransformerBlock(encoder, decoder, source_embedding, target_embedding, source_position, target_position, linear)\n",
    "\n",
    "    for t in Transformer.parameters():\n",
    "        if t.dim() > 1:\n",
    "            nn.init.xavier_uniform(t)\n",
    "    return Transformer "
   ]
  },
  {
   "cell_type": "code",
   "execution_count": null,
   "metadata": {},
   "outputs": [],
   "source": []
  }
 ],
 "metadata": {
  "interpreter": {
   "hash": "5f594f1fbc6ec12c92a2efee092a20dcfd0697dc036fc348ba81f2fc261c5e29"
  },
  "kernelspec": {
   "display_name": "Python 3.11.5 64-bit",
   "language": "python",
   "name": "python3"
  },
  "language_info": {
   "codemirror_mode": {
    "name": "ipython",
    "version": 3
   },
   "file_extension": ".py",
   "mimetype": "text/x-python",
   "name": "python",
   "nbconvert_exporter": "python",
   "pygments_lexer": "ipython3",
   "version": "3.11.5"
  },
  "orig_nbformat": 4
 },
 "nbformat": 4,
 "nbformat_minor": 2
}
